{
 "cells": [
  {
   "cell_type": "code",
   "execution_count": null,
   "metadata": {
    "ExecuteTime": {
     "end_time": "2023-01-02T18:52:43.572421Z",
     "start_time": "2023-01-02T18:52:42.312421Z"
    }
   },
   "outputs": [],
   "source": [
    "import numpy as np\n",
    "from ian.ian import *\n",
    "from ian.dset_utils import *\n",
    "from ian.utils import *\n",
    "import matplotlib.pyplot as plt\n",
    "import matplotlib\n",
    "%matplotlib inline\n",
    "\n",
    "plt.rcParams['figure.figsize']  = (6.0, 4.0)\n",
    "plt.rcParams['figure.dpi'] = 72.0"
   ]
  },
  {
   "cell_type": "code",
   "execution_count": null,
   "metadata": {
    "ExecuteTime": {
     "end_time": "2023-01-02T18:52:45.441314Z",
     "start_time": "2023-01-02T18:52:45.180291Z"
    }
   },
   "outputs": [],
   "source": [
    "dset = dset_gridcatplane(a=0.1, noise_std=.02)\n",
    "data_cmap = 'rainbow'\n",
    "\n",
    "X = dset['X']\n",
    "c = dset['c']\n",
    "N = X.shape[0]\n",
    "\n",
    "f,ax = subps(1,1,4,4,d3=1)\n",
    "_ = plot3dScatter(X, c, f_ax=(f,ax), myAxisScl=[(X[:,1].min()*1.1,X[:,1].max()*1.1)]*3, cmap=data_cmap, axLabels=False)\n",
    "\n",
    "f,ax = subps(1,1,4,4)\n",
    "Y = dset['Y']\n",
    "Y[:,0] = -Y[:,0]\n",
    "plot2dScatter(Y, c, f_ax=(f,ax), cmap=data_cmap, s=25, axLabels=False)\n",
    "ax.set_title('\"ground truth\"')\n",
    "plt.show()"
   ]
  },
  {
   "cell_type": "code",
   "execution_count": null,
   "metadata": {
    "ExecuteTime": {
     "end_time": "2023-01-02T18:53:41.901712Z",
     "start_time": "2023-01-02T18:53:35.546335Z"
    },
    "scrolled": true
   },
   "outputs": [],
   "source": [
    "D2 = getD2(X) #square matrix of squared Euclidean distances\n",
    "Xplot = X[:,[0,1]]\n",
    "G, wG, optScales, disc_pts = IAN('exact-precomputed-sq', D2, Xplot=Xplot, plot_interval=10)"
   ]
  },
  {
   "cell_type": "markdown",
   "metadata": {},
   "source": [
    "### Visualizing resulting scales and data graphs"
   ]
  },
  {
   "cell_type": "code",
   "execution_count": null,
   "metadata": {
    "ExecuteTime": {
     "end_time": "2023-01-02T18:54:06.347490Z",
     "start_time": "2023-01-02T18:54:02.460136Z"
    }
   },
   "outputs": [],
   "source": [
    "f,axes = subps(1,3,4,4)\n",
    "\n",
    "### INDIVIDUAL SCALES\n",
    "ax = axes[0]\n",
    "ax.set_title('Individual scales')\n",
    "\n",
    "lvl = .75 #level set of Gaussian kernel to plot\n",
    "\n",
    "# use kernel formula and solve for the distance, d (radius) using the optimal individual scale, s: \n",
    "# lvl = exp(-d^2/(s^2)) --> sˆ2 log(1/lvl) = d^2 --> d = s sqrt(log(1/lvl))\n",
    "\n",
    "scales_radii = optScales*np.sqrt(np.log(1/lvl))\n",
    "\n",
    "plotScales(Xplot, [], scales_radii, scalesScl=1, f_axes=(f,[ax]), circleColor='g')\n",
    "\n",
    "### UNWEIGHTED GRAPH\n",
    "\n",
    "ax = axes[1]\n",
    "ax.set_title('Unweighted graph, $G$')\n",
    "\n",
    "plotDataGraph(Xplot, G, f_ax=(f,ax), edge_color='k', edge_width=.75)\n",
    "\n",
    "\n",
    "### WEIGHTED GRAPH\n",
    "\n",
    "ax = axes[2]\n",
    "ax.set_title('Weighted graph, $\\mathcal{G}^{\\star}$')\n",
    "#normalize weights for better visualization and comparison with other methods\n",
    "#divide by kernel value when the scale equals the distance\n",
    "#exp( -d^2 / s^2 ) = exp(-1) when d == s\n",
    "wAdj = wG.toarray()\n",
    "wAdj /= np.exp(-1)\n",
    "wAdj[wAdj > 1] = 1 #cant have opacity larger than 1\n",
    "plotWeightedGraph(Xplot, wAdj, rgb=(0,0,0), f_ax=(f,ax))\n",
    "\n",
    "plt.show()"
   ]
  },
  {
   "cell_type": "markdown",
   "metadata": {},
   "source": [
    "### Local dimensionality"
   ]
  },
  {
   "cell_type": "code",
   "execution_count": null,
   "metadata": {
    "ExecuteTime": {
     "end_time": "2023-01-02T18:54:29.407539Z",
     "start_time": "2023-01-02T18:54:26.988142Z"
    }
   },
   "outputs": [],
   "source": [
    "#run NCD algorithm to estimate local dimension\n",
    "nbrhoodOrder = 3 #using neighbors-of-neighbors up to 2 hops away\n",
    "NofNDims, degDims = estimateLocalDims(G, D2, nbrhoodOrder) \n",
    "dims = np.maximum(degDims,NofNDims)\n",
    "\n",
    "\n",
    "#set bounds for colormap\n",
    "MIND, MAXD = min(1,dims.min()),  max(dims.max(),3.5)\n",
    "norm = matplotlib.colors.Normalize(vmin=MIND, vmax=MAXD)\n",
    "dim_cmap = matplotlib.cm.get_cmap('gist_ncar')\n",
    "\n",
    "dimColors = [dim_cmap(norm(si)) for si in dims]\n",
    "\n",
    "f,ax = subps(1,1,4,4)\n",
    "\n",
    "plot2dScatter(Y,dimColors,f_ax=(f,ax),axLabels=False,s=25)\n",
    "\n",
    "ax = f.add_axes([0.05, -.025, 0.9, 0.025])\n",
    "import matplotlib as mpl\n",
    "\n",
    "cb = mpl.colorbar.ColorbarBase(ax, orientation='horizontal', \n",
    "                               cmap=dim_cmap,\n",
    "                               norm=mpl.colors.Normalize(MIND, MAXD),\n",
    "                               label='local dimension')\n",
    "\n",
    "plt.show()\n",
    "\n",
    "f,ax = subps(1,1,4,4)\n",
    "ax.hist(dims)\n",
    "ax.set_title('Distribution of local dimension')\n",
    "plt.show()"
   ]
  },
  {
   "cell_type": "markdown",
   "metadata": {},
   "source": [
    "### Compare embeddings using different algorithms"
   ]
  },
  {
   "cell_type": "code",
   "execution_count": null,
   "metadata": {
    "ExecuteTime": {
     "end_time": "2023-01-02T18:54:34.039059Z",
     "start_time": "2023-01-02T18:54:33.216662Z"
    }
   },
   "outputs": [],
   "source": [
    "D1 = np.sqrt(D2) # (non-sq) distances\n",
    "n_components = 2 #2-d embedding\n",
    "\n",
    "f,axes = subps(1,2,4,4)\n",
    "\n",
    "### IAN + ISOMAP\n",
    "ax = axes[0] \n",
    "ax.set_title('IAN + Isomap')\n",
    "\n",
    "dwG = G.multiply(D1) # elementwise multiply to get discrete graph using distances as weights\n",
    "_, isomap_y = computeIsomap(X, None, n_components, knbrs_graph=dwG)\n",
    "plot2dScatter(isomap_y, c, cmap=data_cmap, f_ax=(f,ax), s=20, axLabels=False)\n",
    "\n",
    "\n",
    "### IAN + Diffusion Maps\n",
    "ax = axes[1]\n",
    "ax.set_title('IAN + Diffusion Maps')\n",
    "alpha = 1\n",
    "t = 1\n",
    "diffmap_y, _ = diffusionMapFromK(wG, n_components, alpha, t)\n",
    "plot2dScatter(diffmap_y, c, cmap=data_cmap, f_ax=(f,ax), s=20, axLabels=False)\n",
    "\n",
    "plt.show()"
   ]
  },
  {
   "cell_type": "markdown",
   "metadata": {},
   "source": [
    "### Heat geodesics"
   ]
  },
  {
   "cell_type": "code",
   "execution_count": null,
   "metadata": {
    "ExecuteTime": {
     "end_time": "2023-01-02T19:09:23.650186Z",
     "start_time": "2023-01-02T19:09:22.831157Z"
    }
   },
   "outputs": [],
   "source": [
    "geocenter = [0] #index of starting node(s) for heat diffusion\n",
    "\n",
    "K = wG.toarray() #convert weighted graph to dense array\n",
    "\n",
    "#remove any self-weights\n",
    "np.fill_diagonal(K,0)\n",
    "\n",
    "t = 5 #heat diffusion time\n",
    "phis = computeHeatGeodesics(K, t, geocenter)\n",
    "\n",
    "zorder = phis.argsort()[::-1]#put hottest pts on top for clearer visualization\n",
    "f,axes = subps(1,4,6,6,d3=1)\n",
    "for i,ax in enumerate(axes):\n",
    "    plot3dScatter(X[zorder],phis[zorder],f_ax=(f,ax),myAxisScl=[(X[:,1].min()*1.1,X[:,1].max()*1.1)]*3,\n",
    "                       axLabels=False,cmap=plasma7r_cmp,s=80,edgecolors=(0,0,0,.1),angle=(40,60+i*120//4))\n",
    "\n",
    "plt.show()\n",
    "\n",
    "f,axes = subps(1,2,4,5)\n",
    "\n",
    "ax = axes[0]\n",
    "ax.set_title('Heat geodesics from IAN weighted graph')\n",
    "plot2dScatter(Y[zorder], phis[zorder], f_ax=(f,ax), axLabels=False, cmap=plasma7r_cmp, s=100, edgecolors=(0,0,0,.1))\n",
    "\n",
    "ax = axes[1]\n",
    "ax.set_title('Ground truth')\n",
    "yD1 = squareform(pdist(Y))\n",
    "gt_phis = yD1[geocenter[0]]\n",
    "gt_zorder = gt_phis.argsort()[::-1]#put hottest pts on top for clearer visualization\n",
    "plot2dScatter(Y[gt_zorder], gt_phis[gt_zorder], f_ax=(f,ax), axLabels=False, cmap=plasma7r_cmp, s=100, edgecolors=(0,0,0,.1))\n",
    "\n",
    "plt.show()\n",
    "\n"
   ]
  }
 ],
 "metadata": {
  "celltoolbar": "Initialization Cell",
  "hide_input": false,
  "kernelspec": {
   "display_name": "Python [conda env:test0]",
   "language": "python",
   "name": "conda-env-test0-py"
  },
  "language_info": {
   "codemirror_mode": {
    "name": "ipython",
    "version": 3
   },
   "file_extension": ".py",
   "mimetype": "text/x-python",
   "name": "python",
   "nbconvert_exporter": "python",
   "pygments_lexer": "ipython3",
   "version": "3.10.6"
  }
 },
 "nbformat": 4,
 "nbformat_minor": 2
}
