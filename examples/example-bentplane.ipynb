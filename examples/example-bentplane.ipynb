{
 "cells": [
  {
   "cell_type": "code",
   "execution_count": null,
   "metadata": {
    "ExecuteTime": {
     "end_time": "2023-01-06T19:02:32.859453Z",
     "start_time": "2023-01-06T19:02:30.785133Z"
    }
   },
   "outputs": [],
   "source": [
    "import numpy as np\n",
    "from ian.ian import *\n",
    "from ian.dset_utils import *\n",
    "from ian.embed_utils import *\n",
    "from ian.utils import *\n",
    "import matplotlib.pyplot as plt\n",
    "import matplotlib\n",
    "%matplotlib inline\n",
    "\n",
    "plt.rcParams['figure.figsize']  = (6.0, 4.0)\n",
    "plt.rcParams['figure.dpi'] = 72.0"
   ]
  },
  {
   "cell_type": "markdown",
   "metadata": {},
   "source": [
    "### Load dataset"
   ]
  },
  {
   "cell_type": "code",
   "execution_count": null,
   "metadata": {
    "ExecuteTime": {
     "end_time": "2023-01-06T19:02:33.151442Z",
     "start_time": "2023-01-06T19:02:32.862064Z"
    },
    "scrolled": false
   },
   "outputs": [],
   "source": [
    "dset = dset_gridcatplane(a=0.1, noise_std=.02)\n",
    "data_cmap = 'rainbow'\n",
    "\n",
    "X = dset['X']\n",
    "c = dset['c']\n",
    "N = X.shape[0]\n",
    "\n",
    "f,ax = subps(1,1,4,4,d3=1)\n",
    "_ = plot3dScatter(X, c, f_ax=(f,ax), myAxisScl=[(X[:,1].min()*1.1,X[:,1].max()*1.1)]*3, cmap=data_cmap, axLabels=False)\n",
    "\n",
    "f,ax = subps(1,1,4,4)\n",
    "Y = dset['Y']\n",
    "Y[:,0] = -Y[:,0]\n",
    "plot2dScatter(Y, c, f_ax=(f,ax), cmap=data_cmap, s=25, axLabels=False)\n",
    "ax.set_title('\"ground truth\"')\n",
    "plt.show()"
   ]
  },
  {
   "cell_type": "markdown",
   "metadata": {},
   "source": [
    "### Compute IAN kernel"
   ]
  },
  {
   "cell_type": "code",
   "execution_count": null,
   "metadata": {
    "ExecuteTime": {
     "end_time": "2023-01-06T19:02:37.995668Z",
     "start_time": "2023-01-06T19:02:33.157682Z"
    },
    "scrolled": true
   },
   "outputs": [],
   "source": [
    "D2 = pwdists(X, sqdists=True) #square matrix of squared Euclidean distances\n",
    "Xplot = X[:,[0,1]]\n",
    "G, wG, optScales, disc_pts = IAN('exact-precomputed-sq', D2, Xplot=Xplot)"
   ]
  },
  {
   "cell_type": "markdown",
   "metadata": {
    "heading_collapsed": true
   },
   "source": [
    "### Visualizing resulting scales and data graphs"
   ]
  },
  {
   "cell_type": "code",
   "execution_count": null,
   "metadata": {
    "ExecuteTime": {
     "end_time": "2023-01-06T19:02:41.930090Z",
     "start_time": "2023-01-06T19:02:38.001719Z"
    },
    "hidden": true
   },
   "outputs": [],
   "source": [
    "f,axes = subps(1,3,4,4)\n",
    "\n",
    "### INDIVIDUAL SCALES\n",
    "ax = axes[0]\n",
    "ax.set_title('Individual scales')\n",
    "\n",
    "lvl = .75 #level set of Gaussian kernel to plot\n",
    "\n",
    "# use kernel formula and solve for the distance, d (radius) using the optimal individual scale, s: \n",
    "# lvl = exp(-d^2/(s^2)) --> sˆ2 log(1/lvl) = d^2 --> d = s sqrt(log(1/lvl))\n",
    "\n",
    "scales_radii = optScales*np.sqrt(np.log(1/lvl))\n",
    "\n",
    "plotScales(Xplot, [], scales_radii, scalesScl=1, f_axes=(f,[ax]), circleColor='g')\n",
    "\n",
    "### UNWEIGHTED GRAPH\n",
    "\n",
    "ax = axes[1]\n",
    "ax.set_title('Unweighted graph, $G$')\n",
    "\n",
    "plotDataGraph(Xplot, G, f_ax=(f,ax), edge_color='k', edge_width=.75)\n",
    "\n",
    "\n",
    "### WEIGHTED GRAPH\n",
    "\n",
    "ax = axes[2]\n",
    "ax.set_title('Weighted graph, $\\mathcal{G}^{\\star}$')\n",
    "#normalize weights for better visualization and comparison with other methods\n",
    "#divide by kernel value when the scale equals the distance\n",
    "#exp( -d^2 / s^2 ) = exp(-1) when d == s\n",
    "wAdj = wG.toarray()\n",
    "wAdj /= np.exp(-1)\n",
    "wAdj[wAdj > 1] = 1 #cant have opacity larger than 1\n",
    "plotWeightedGraph(Xplot, wAdj, rgb=(0,0,0), f_ax=(f,ax))\n",
    "\n",
    "plt.show()"
   ]
  },
  {
   "cell_type": "markdown",
   "metadata": {
    "heading_collapsed": true
   },
   "source": [
    "### Local dimensionality"
   ]
  },
  {
   "cell_type": "code",
   "execution_count": null,
   "metadata": {
    "ExecuteTime": {
     "end_time": "2023-01-06T19:02:44.480714Z",
     "start_time": "2023-01-06T19:02:41.933973Z"
    },
    "hidden": true
   },
   "outputs": [],
   "source": [
    "#run NCD algorithm to estimate local dimension\n",
    "nbrhoodOrder = 3 #using neighbors-of-neighbors up to 2 hops away\n",
    "NofNDims, degDims = estimateLocalDims(G, D2, nbrhoodOrder) \n",
    "dims = np.maximum(degDims,NofNDims)\n",
    "\n",
    "\n",
    "#set bounds for colormap\n",
    "MIND, MAXD = min(1,dims.min()),  max(dims.max(),3.5)\n",
    "norm = matplotlib.colors.Normalize(vmin=MIND, vmax=MAXD)\n",
    "dim_cmap = matplotlib.cm.get_cmap('gist_ncar')\n",
    "\n",
    "dimColors = [dim_cmap(norm(si)) for si in dims]\n",
    "\n",
    "f,ax = subps(1,1,4,4)\n",
    "\n",
    "plot2dScatter(Y,dimColors,f_ax=(f,ax),axLabels=False,s=25)\n",
    "\n",
    "ax = f.add_axes([0.05, -.025, 0.9, 0.025])\n",
    "import matplotlib as mpl\n",
    "\n",
    "cb = mpl.colorbar.ColorbarBase(ax, orientation='horizontal', \n",
    "                               cmap=dim_cmap,\n",
    "                               norm=mpl.colors.Normalize(MIND, MAXD),\n",
    "                               label='local dimension')\n",
    "\n",
    "plt.show()\n",
    "\n",
    "f,ax = subps(1,1,4,4)\n",
    "ax.hist(dims)\n",
    "ax.set_title('Distribution of local dimension')\n",
    "plt.show()"
   ]
  },
  {
   "cell_type": "markdown",
   "metadata": {
    "heading_collapsed": true
   },
   "source": [
    "### Heat geodesics"
   ]
  },
  {
   "cell_type": "code",
   "execution_count": null,
   "metadata": {
    "ExecuteTime": {
     "end_time": "2023-01-06T19:02:45.264046Z",
     "start_time": "2023-01-06T19:02:44.484758Z"
    },
    "hidden": true
   },
   "outputs": [],
   "source": [
    "geocenter = [0] #index of starting node(s) for heat diffusion\n",
    "\n",
    "K = wG.toarray() #convert weighted graph to dense array\n",
    "\n",
    "#remove any self-weights\n",
    "np.fill_diagonal(K,0)\n",
    "\n",
    "t = 5 #heat diffusion time\n",
    "phis = computeHeatGeodesics(K, t, geocenter)\n",
    "\n",
    "zorder = phis.argsort()[::-1]#put hottest pts on top for clearer visualization\n",
    "f,axes = subps(1,4,6,6,d3=1)\n",
    "for i,ax in enumerate(axes):\n",
    "    plot3dScatter(X[zorder],phis[zorder],f_ax=(f,ax),myAxisScl=[(X[:,1].min()*1.1,X[:,1].max()*1.1)]*3,\n",
    "                       axLabels=False,cmap=plasma7r_cmp,s=80,edgecolors=(0,0,0,.1),angle=(40,60+i*120//4))\n",
    "\n",
    "plt.show()\n",
    "\n",
    "f,axes = subps(1,2,4,5)\n",
    "\n",
    "ax = axes[0]\n",
    "ax.set_title('Heat geodesics from IAN weighted graph')\n",
    "plot2dScatter(Y[zorder], phis[zorder], f_ax=(f,ax), axLabels=False, cmap=plasma7r_cmp, s=100, edgecolors=(0,0,0,.1))\n",
    "\n",
    "ax = axes[1]\n",
    "ax.set_title('Ground truth')\n",
    "yD1 = squareform(pdist(Y))\n",
    "gt_phis = yD1[geocenter[0]]\n",
    "gt_zorder = gt_phis.argsort()[::-1]#put hottest pts on top for clearer visualization\n",
    "plot2dScatter(Y[gt_zorder], gt_phis[gt_zorder], f_ax=(f,ax), axLabels=False, cmap=plasma7r_cmp, s=100, edgecolors=(0,0,0,.1))\n",
    "\n",
    "plt.show()\n",
    "\n"
   ]
  },
  {
   "cell_type": "markdown",
   "metadata": {},
   "source": [
    "### Compare embeddings using different algorithms"
   ]
  },
  {
   "cell_type": "code",
   "execution_count": null,
   "metadata": {
    "ExecuteTime": {
     "end_time": "2023-01-06T20:24:42.670133Z",
     "start_time": "2023-01-06T20:24:42.657846Z"
    }
   },
   "outputs": [],
   "source": [
    "D1 = np.sqrt(D2) # (non-sq) distances\n",
    "n_components = 2 #2-d embedding\n",
    "rs = 10 #random state"
   ]
  },
  {
   "cell_type": "markdown",
   "metadata": {},
   "source": [
    "#### Isomap, Diffusion map"
   ]
  },
  {
   "cell_type": "code",
   "execution_count": null,
   "metadata": {
    "ExecuteTime": {
     "end_time": "2023-01-06T19:02:46.089336Z",
     "start_time": "2023-01-06T19:02:45.273253Z"
    }
   },
   "outputs": [],
   "source": [
    "f,axes = subps(1,2,4,4)\n",
    "\n",
    "### IAN + ISOMAP\n",
    "ax = axes[0] \n",
    "ax.set_title('IAN + Isomap')\n",
    "\n",
    "dwG = G.multiply(D1) # elementwise multiply to get discrete graph using distances as weights\n",
    "_, isomap_y = computeIsomap(X, None, n_components, knbrs_graph=dwG)\n",
    "plot2dScatter(isomap_y, c, cmap=data_cmap, f_ax=(f,ax), s=20, axLabels=False)\n",
    "\n",
    "\n",
    "### IAN + Diffusion Maps\n",
    "ax = axes[1]\n",
    "ax.set_title('IAN + Diffusion Maps')\n",
    "alpha = 1\n",
    "t = 1\n",
    "diffmap_y, _ = diffusionMapFromK(wG, n_components, alpha, t)\n",
    "plot2dScatter(diffmap_y, c, cmap=data_cmap, f_ax=(f,ax), s=20, axLabels=False)\n",
    "\n",
    "plt.show()"
   ]
  },
  {
   "cell_type": "markdown",
   "metadata": {
    "ExecuteTime": {
     "end_time": "2023-01-06T20:24:38.828775Z",
     "start_time": "2023-01-06T20:24:38.822332Z"
    }
   },
   "source": [
    "#### t-SNE"
   ]
  },
  {
   "cell_type": "markdown",
   "metadata": {},
   "source": [
    "(note: the t-SNE implementation used here is included in the scikit-learn package)"
   ]
  },
  {
   "cell_type": "code",
   "execution_count": null,
   "metadata": {
    "ExecuteTime": {
     "end_time": "2023-01-06T20:26:56.800499Z",
     "start_time": "2023-01-06T20:24:44.787005Z"
    }
   },
   "outputs": [],
   "source": [
    "perplexities = [2, 4, 8, 16, 64]\n",
    "f,axes = subps(1,len(perplexities),3,3,axlist=True)\n",
    "\n",
    "for ax, knn in zip(axes, perplexities):\n",
    "    print(knn, end=' ')\n",
    "    #Copute spectral initialization, for better comparison with umap\n",
    "    \n",
    "    # (need to compute a kernel matrix first, using t-SNE's own sigmas) \n",
    "    sigmas = computeTSNEsigmas(D2, knn) #use knn as perplexity\n",
    "    myK = computeTSNEkernel(D2, sigmas, False) #no need to normalize b/c will be done by eigenmaps\n",
    "    init = spectral_init_from_umap(myK, n_components)\n",
    "\n",
    "    # 2 - compute t-SNE embedding using the init above\n",
    "    tsne = TSNE(n_components=n_components, learning_rate='auto', metric='precomputed',\n",
    "               init=init, perplexity=knn, random_state=rs, method=\"exact\", verbose=0)\n",
    "    tsne_y = tsne.fit_transform(D1.copy())\n",
    "\n",
    "    plot2dScatter(tsne_y, c, cmap=data_cmap, f_ax=(f,ax), s=25, axLabels=False)\n",
    "    ax.set_title(f't-SNE, k={knn}')\n",
    "    \n",
    "plt.show()"
   ]
  },
  {
   "cell_type": "code",
   "execution_count": null,
   "metadata": {
    "ExecuteTime": {
     "end_time": "2023-01-06T19:04:19.015327Z",
     "start_time": "2023-01-06T19:03:53.947665Z"
    }
   },
   "outputs": [],
   "source": [
    "### IAN + t-SNE\n",
    "\n",
    "\n",
    "\n",
    "tsne = TSNE(n_components=n_components, learning_rate='auto',metric='precomputed',\n",
    "               init='random',random_state=rs, method=\"exact\")\n",
    "iantsne_y = my_tsne_fit_transform(tsne,D2,optScales)\n",
    "\n",
    "f,ax = subps(1,1,4,4)\n",
    "ax.set_title('IAN + t-SNE')\n",
    "plot2dScatter(iantsne_y, c, cmap=data_cmap,f_ax=(f,ax), axisEqual=False, s=25, axLabels=False)\n",
    "plt.show()\n"
   ]
  },
  {
   "cell_type": "markdown",
   "metadata": {},
   "source": [
    "#### UMAP"
   ]
  },
  {
   "cell_type": "markdown",
   "metadata": {},
   "source": [
    "(note: UMAP is not a pre-requisite for the IAN package; you will need to install it independently in order to run the code below)"
   ]
  },
  {
   "cell_type": "code",
   "execution_count": null,
   "metadata": {
    "ExecuteTime": {
     "end_time": "2023-01-06T20:27:48.863663Z",
     "start_time": "2023-01-06T20:27:36.077513Z"
    }
   },
   "outputs": [],
   "source": [
    "import umap #tested using umap-learn v0.5.3\n",
    "\n",
    "knns = [2, 4, 8, 16, 64]\n",
    "\n",
    "f,axes = subps(1,len(knns),3,3,axlist=True)\n",
    "\n",
    "for ax, knn in zip(axes, knns):\n",
    "    print(knn, end=' ')\n",
    "    fit = umap.UMAP(\n",
    "        n_neighbors=knn,\n",
    "        n_components=n_components,\n",
    "        random_state=rs,\n",
    "    )\n",
    "    umap_y = fit.fit_transform(X)\n",
    "\n",
    "    plot2dScatter(umap_y, c, cmap=data_cmap, f_ax=(f,ax), s=25, axLabels=False)\n",
    "    ax.set_title(f'UMAP, k={knn}')\n",
    "    \n",
    "plt.show()"
   ]
  },
  {
   "cell_type": "code",
   "execution_count": null,
   "metadata": {
    "ExecuteTime": {
     "end_time": "2023-01-06T20:00:49.646720Z",
     "start_time": "2023-01-06T20:00:47.387998Z"
    }
   },
   "outputs": [],
   "source": [
    "### IAN + UMAP\n",
    "\n",
    "#setting up a umap object\n",
    "u = umap.UMAP(\n",
    "    n_neighbors=X.shape[0]-1, #all points\n",
    "    n_components=n_components,\n",
    "    transform_mode=\"graph\", #this option tells umap not to compute the embedding just yet\n",
    "    random_state=rs,\n",
    ")\n",
    "u.fit(X)\n",
    "\n",
    "#run algorithm with our own weighted graph\n",
    "myK = wG.toarray()\n",
    "np.fill_diagonal(myK,0) #remove self-weights (not used by umap)\n",
    "sparseK = sp.sparse.coo_matrix(myK) #convert into sparse COO format, required by umap\n",
    "\n",
    "\n",
    "#now run umap's embedding algorithm directly, using the IAN weighted graph\n",
    "from sklearn.utils import check_random_state, check_array\n",
    "X_ = check_array(X.copy(), dtype=np.float32, accept_sparse=\"csr\", order=\"C\")\n",
    "\n",
    "from umap.umap_ import simplicial_set_embedding\n",
    "ianumap_y,_ = simplicial_set_embedding(X_, sparseK, #just pass along all internal attributes from the umap object create above\n",
    "            u.n_components, u._initial_alpha, u._a, u._b, u.repulsion_strength, u.negative_sample_rate,\n",
    "            u.n_epochs, u.init, check_random_state(u.random_state), u._input_distance_func, u._metric_kwds,\n",
    "            u.densmap, u._densmap_kwds, u.output_dens, u._output_distance_func, u._output_metric_kwds,\n",
    "            u.output_metric in (\"euclidean\", \"l2\"), check_random_state(u.random_state) is None, u.verbose, u.tqdm_kwds)\n",
    "\n",
    "\n",
    "f,ax = subps(1,1,4,4)\n",
    "ax.set_title('IAN + UMAP')\n",
    "plot2dScatter(ianumap_y, c, cmap=data_cmap, f_ax=(f,ax), axisEqual=False, s=25, axLabels=False)\n",
    "plt.show()"
   ]
  }
 ],
 "metadata": {
  "celltoolbar": "Initialization Cell",
  "hide_input": false,
  "kernelspec": {
   "display_name": "Python [conda env:test0]",
   "language": "python",
   "name": "conda-env-test0-py"
  },
  "language_info": {
   "codemirror_mode": {
    "name": "ipython",
    "version": 3
   },
   "file_extension": ".py",
   "mimetype": "text/x-python",
   "name": "python",
   "nbconvert_exporter": "python",
   "pygments_lexer": "ipython3",
   "version": "3.10.6"
  }
 },
 "nbformat": 4,
 "nbformat_minor": 2
}
