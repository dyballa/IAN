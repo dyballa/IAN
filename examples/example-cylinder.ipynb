{
 "cells": [
  {
   "cell_type": "code",
   "execution_count": null,
   "metadata": {
    "ExecuteTime": {
     "end_time": "2023-01-06T14:14:09.801389Z",
     "start_time": "2023-01-06T14:14:04.958841Z"
    }
   },
   "outputs": [],
   "source": [
    "import numpy as np\n",
    "from ian.ian import *\n",
    "from ian.utils import *\n",
    "from ian.dset_utils import *\n",
    "from ian.embed_utils import *\n",
    "from sklearn.decomposition import PCA\n",
    "import matplotlib.pyplot as plt\n",
    "%matplotlib inline\n",
    "\n",
    "plt.rcParams['figure.figsize']  = (6.0, 4.0)\n",
    "plt.rcParams['figure.dpi'] = 72.0"
   ]
  },
  {
   "cell_type": "markdown",
   "metadata": {},
   "source": [
    "## Create dataset"
   ]
  },
  {
   "cell_type": "code",
   "execution_count": null,
   "metadata": {
    "ExecuteTime": {
     "end_time": "2023-01-06T14:14:09.824280Z",
     "start_time": "2023-01-06T14:14:09.804859Z"
    }
   },
   "outputs": [],
   "source": [
    "### Sample points uniformly at random from a 5-d cylinder (S^4 x R^1) or radius 1 and length 3 in R^6  \n",
    "\n",
    "np.random.seed(1)\n",
    "\n",
    "\n",
    "d = 5 #ambient space for the 4-sphere\n",
    "length = 3 #cylinder length along its main axis\n",
    "n = 7 #sets the sampling density\n",
    "\n",
    "# sample using Muller method\n",
    "# (e.g., see http://extremelearning.com.au/how-to-generate-uniformly-random-points-on-n-spheres-and-n-balls/)\n",
    "u = np.random.normal(0, 1, (n**d,d))  # an array of d normally distributed random variables\n",
    "norm = np.linalg.norm(u,axis=1,keepdims=1)\n",
    "X = u/norm #all pts become unit-norm (unit radius sphere)\n",
    "\n",
    "#sample positions along cylinder length in R^1, adding an extra dimension\n",
    "X = np.concatenate([np.random.random(n**d)[:,None]*length,X],axis=1)\n",
    "X -= X.mean(0)\n",
    "N = X.shape[0]\n",
    "\n",
    "#subsample: using half the total points, for speed\n",
    "frac = .5 #fraction to use\n",
    "subs = np.random.choice(range(N),int(N*frac),False)\n",
    "X = X[subs]\n",
    "N = X.shape[0]\n",
    "print(X.shape)"
   ]
  },
  {
   "cell_type": "code",
   "execution_count": null,
   "metadata": {
    "ExecuteTime": {
     "end_time": "2023-01-06T14:14:10.136645Z",
     "start_time": "2023-01-06T14:14:09.827111Z"
    }
   },
   "outputs": [],
   "source": [
    "### setup color labels\n",
    "\n",
    "red = tuple([1,0,0,1])\n",
    "yellow = tuple([1,1,0,1])\n",
    "black = tuple([0,0,0,1])\n",
    "green = tuple([73/255,252/255,3/255])\n",
    "magenta = tuple([1,0,1,1])\n",
    "blue = tuple([0,0,1,1])\n",
    "\n",
    "clrs_to_use = [red,yellow,black,green,magenta,blue]\n",
    "nclrs = len(clrs_to_use)\n",
    "\n",
    "clr_thickness = X[:,0].ptp()/nclrs\n",
    "h0 = X[:,0].min()\n",
    "clbls = np.zeros(N)\n",
    "cclrs = np.zeros((N,3))\n",
    "for clri in range(nclrs):\n",
    "    mask = (X[:,0] >= h0 + clri*clr_thickness) & (X[:,0] <= h0 + (clri+1)*clr_thickness)\n",
    "    clbls[mask] = clri\n",
    "    cclrs[mask] = np.tile(clrs_to_use[clri][:3],(mask.sum(),1))\n",
    "\n",
    "f,ax = subps(1,1,3,5)\n",
    "plot2dScatter(X[:,[0,1]],cclrs,s=50,axLabels=False,alpha=1,edgecolors='gray',f_ax=(f,ax),axisEqual=True)\n",
    "ax.set_title('original data')\n",
    "plt.show()"
   ]
  },
  {
   "cell_type": "code",
   "execution_count": null,
   "metadata": {
    "ExecuteTime": {
     "end_time": "2023-01-06T14:45:18.972135Z",
     "start_time": "2023-01-06T14:45:18.560752Z"
    },
    "scrolled": false
   },
   "outputs": [],
   "source": [
    "#plot labels of each point sorted by position along first principal component (main axis) in embedding\n",
    "def showPositionalLabelMixing(y,titl=''):\n",
    "    x_height_order = np.argsort(X[:,0])\n",
    "    if y[x_height_order[0]] > y[x_height_order[-1]]:#check for flipped sign compared to original data\n",
    "        y = -y\n",
    "    height_order = np.argsort(y)\n",
    "    n_pts_per_color = N//nclrs\n",
    "\n",
    "    f, ax = subps(1,1,4,6)\n",
    "    ax.plot(clbls[height_order])\n",
    "    for clri in range(nclrs):\n",
    "        start,end = clri*n_pts_per_color, (clri+1)*n_pts_per_color\n",
    "        rect = plt.Rectangle((start,0), end-start, nclrs-1,\n",
    "                                     facecolor=clrs_to_use[clri], alpha=0.3)\n",
    "        ax.add_patch(rect)\n",
    "    ax.set(xlabel='index along main axis in the embedding', ylabel='original label (cylinder section)', title=titl)\n",
    "    plt.show()\n",
    "\n",
    "\n",
    "# compute Kendall's tau to assess degree of mixing caused by the embedding algorithm\n",
    "# for original data it is trivially 1.00 (100% match)\n",
    "\n",
    "def plot_tau_stats(y, titl=''):\n",
    "    x_height_order = np.argsort(X[:,0])\n",
    "    if y[x_height_order[0]] > y[x_height_order[-1]]:\n",
    "        y = -y\n",
    "    xmap = {v:k for k,v in enumerate(x_height_order)}\n",
    "    y_height_order = [xmap[yi] for yi in np.argsort(y)]\n",
    "\n",
    "    tau = sp.stats.kendalltau(np.arange(N),y_height_order)[0]\n",
    "    \n",
    "    f, ax = subps(1,1,3,3)\n",
    "    ax.plot(y_height_order)\n",
    "    ax.text(.1,.9,'tau = %.2f' % tau,size=14,transform=ax.transAxes)\n",
    "    ax.set_xlabel(r'horiz. ranking in $\\mathcal{X}$')\n",
    "    ax.set_ylabel(r'horiz. ranking in $\\mathcal{X}$')\n",
    "    ax.set_title(titl)\n",
    "    ax.set(xticks=[], yticks=[])\n",
    "    plt.show()\n",
    "    \n",
    "    return tau\n",
    "\n",
    "y = X[:,0]\n",
    "algo_title = 'Original data'\n",
    "showPositionalLabelMixing(y, algo_title)\n",
    "tau = plot_tau_stats(y, algo_title)"
   ]
  },
  {
   "cell_type": "markdown",
   "metadata": {},
   "source": [
    "## Compute IAN kernel"
   ]
  },
  {
   "cell_type": "code",
   "execution_count": null,
   "metadata": {
    "ExecuteTime": {
     "end_time": "2023-01-06T14:48:54.787717Z",
     "start_time": "2023-01-06T14:48:53.589375Z"
    }
   },
   "outputs": [],
   "source": [
    "D2 = pwdists(X, sqdists=True) #square matrix of squared Euclidean distances\n",
    "D1 = np.sqrt(D2)"
   ]
  },
  {
   "cell_type": "code",
   "execution_count": null,
   "metadata": {
    "ExecuteTime": {
     "end_time": "2023-01-06T18:41:55.491876Z",
     "start_time": "2023-01-06T18:41:45.166275Z"
    },
    "scrolled": true
   },
   "outputs": [],
   "source": [
    "#using greedy approach for speed (took me about 43 seconds)\n",
    "G, wG, optScales, disc_pts = IAN('exact-precomputed-sq', D2, obj='greedy')\n",
    "\n",
    "# for higher accuracy, use linear program (took me about 12 minutes using the GUROBI solver),\n",
    "# but resulting embeddings are very similar\n",
    "# G, wG, optScales, disc_pts = IAN('exact-precomputed-sq', D2, obj='l1', solver='GUROBI')"
   ]
  },
  {
   "cell_type": "code",
   "execution_count": null,
   "metadata": {
    "ExecuteTime": {
     "end_time": "2023-01-04T19:58:00.514712Z",
     "start_time": "2023-01-04T19:58:00.190884Z"
    }
   },
   "outputs": [],
   "source": [
    "#use average node degree as a reasonable number k of nearest neighbors to use with t-SNE (perplexity) and UMAP (n_neighbors)\n",
    "avg_deg = int(G.toarray().sum(1).mean()) #parameter must be an integer\n",
    "print('Average degree in unweighted graph:', avg_deg)"
   ]
  },
  {
   "cell_type": "markdown",
   "metadata": {},
   "source": [
    "## Compare embeddings using different algorithms"
   ]
  },
  {
   "cell_type": "code",
   "execution_count": null,
   "metadata": {
    "ExecuteTime": {
     "end_time": "2023-01-06T14:39:58.451809Z",
     "start_time": "2023-01-06T14:39:58.447447Z"
    }
   },
   "outputs": [],
   "source": [
    "n_components = 2\n",
    "rs = 0 #same random state to use across algorithms"
   ]
  },
  {
   "cell_type": "markdown",
   "metadata": {},
   "source": [
    "### Diffusion maps"
   ]
  },
  {
   "cell_type": "code",
   "execution_count": null,
   "metadata": {
    "ExecuteTime": {
     "end_time": "2023-01-04T19:58:18.720332Z",
     "start_time": "2023-01-04T19:58:00.526913Z"
    }
   },
   "outputs": [],
   "source": [
    "algo_title = 'IAN + diffusion maps'\n",
    "\n",
    "diffmap_y, lams = diffusionMapFromK(wG, n_components)\n",
    "\n",
    "#use PCA to align cylinder's main axis with first component, and allow for a fair comparison\n",
    "dmPCs = PCA(2, random_state=rs).fit_transform(diffmap_y)\n",
    "dmPCs[:,0] = -dmPCs[:,0] #(flipping in order to have red points on the left)\n",
    "f,ax = subps(1,1,3,5)\n",
    "plot2dScatter(dmPCs[:,[0,1]],cclrs,s=50,axLabels=False,edgecolors='gray',f_ax=(f,ax),axisEqual=False)\n",
    "ax.set_title(algo_title)\n",
    "plt.show()"
   ]
  },
  {
   "cell_type": "code",
   "execution_count": null,
   "metadata": {
    "ExecuteTime": {
     "end_time": "2023-01-04T19:58:18.999046Z",
     "start_time": "2023-01-04T19:58:18.727653Z"
    }
   },
   "outputs": [],
   "source": [
    "y = dmPCs[:,0]\n",
    "showPositionalLabelMixing(y, algo_title)\n",
    "tau = plot_tau_stats(y, algo_title)"
   ]
  },
  {
   "cell_type": "markdown",
   "metadata": {},
   "source": [
    "### t-SNE"
   ]
  },
  {
   "cell_type": "markdown",
   "metadata": {},
   "source": [
    "(note: the t-SNE implementation used here is included in the scikit-learn package)"
   ]
  },
  {
   "cell_type": "code",
   "execution_count": null,
   "metadata": {
    "ExecuteTime": {
     "end_time": "2023-01-06T14:42:43.378781Z",
     "start_time": "2023-01-06T14:40:01.201076Z"
    }
   },
   "outputs": [],
   "source": [
    "algo_title = 't-SNE, k = %d' % avg_deg\n",
    "\n",
    "knn = avg_deg\n",
    "\n",
    "# 1 - use same initialization method used by umap (spectral embedding, i.e. Laplacian eigenmaps)\n",
    "from sklearn.manifold import SpectralEmbedding\n",
    "spec = SpectralEmbedding(n_components=n_components,affinity='precomputed',random_state=rs)\n",
    "# (need to compute a kernel matrix first, using t-SNE's own sigmas) \n",
    "sigmas = computeTSNEsigmas(D2, knn) #use knn as perplexity\n",
    "myK = computeTSNEkernel(D2, sigmas, False) #no need to normalize b/c will be done by eigenmaps\n",
    "init = spec.fit_transform(myK)\n",
    "\n",
    "# 2 - compute t-SNE embedding with the init above\n",
    "tsne = TSNE(n_components=n_components, learning_rate='auto',metric='precomputed',\n",
    "           init=init, perplexity=knn, random_state=rs, method=\"barnes_hut\", verbose=1)\n",
    "ty = tsne.fit_transform(D1)\n"
   ]
  },
  {
   "cell_type": "code",
   "execution_count": null,
   "metadata": {
    "ExecuteTime": {
     "end_time": "2023-01-06T14:45:11.256216Z",
     "start_time": "2023-01-06T14:45:10.827418Z"
    }
   },
   "outputs": [],
   "source": [
    "#use PCA to align main axis and allow for a fair comparison\n",
    "tPCs = PCA(2, random_state=rs).fit_transform(ty)[:,:2]\n",
    "f,ax = subps(1,1,3,5)\n",
    "plot2dScatter(tPCs,cclrs,s=40,axLabels=False,edgecolors='gray',f_ax=(f,ax),axisEqual=False)\n",
    "ax.set_title(algo_title)"
   ]
  },
  {
   "cell_type": "code",
   "execution_count": null,
   "metadata": {
    "ExecuteTime": {
     "end_time": "2023-01-06T14:45:26.164468Z",
     "start_time": "2023-01-06T14:45:25.835048Z"
    }
   },
   "outputs": [],
   "source": [
    "y = tPCs[:,0]\n",
    "showPositionalLabelMixing(y, algo_title)\n",
    "tau = plot_tau_stats(y, algo_title)"
   ]
  },
  {
   "cell_type": "code",
   "execution_count": null,
   "metadata": {
    "ExecuteTime": {
     "end_time": "2023-01-04T20:39:32.429402Z",
     "start_time": "2023-01-04T20:28:28.553233Z"
    }
   },
   "outputs": [],
   "source": [
    "#### IAN + t-SNE\n",
    "# use IAN's optimal scales in the t-SNE kernel\n",
    "algo_title = 'IAN + t-SNE'\n",
    "\n",
    "# 1 - use same initialization method used by umap (spectral embedding, i.e. Laplacian eigenmaps)\n",
    "from sklearn.manifold import SpectralEmbedding\n",
    "spec = SpectralEmbedding(n_components=n_components,affinity='precomputed',random_state=rs)\n",
    "myK = computeTSNEkernel(D2, optScales, False) #no need to normalize b/c will be done by eigenmaps\n",
    "init = spec.fit_transform(myK)\n",
    "\n",
    "# 2 - compute t-SNE embedding with the init above\n",
    "tsne = TSNE(n_components=n_components, learning_rate='auto', metric='precomputed', #setting perplexity here is irrelevant, won't be used\n",
    "               init=init, random_state=rs, method=\"barnes_hut\", verbose=1)\n",
    "ity = my_tsne_fit_transform(tsne,D2.copy(),optScales)"
   ]
  },
  {
   "cell_type": "code",
   "execution_count": null,
   "metadata": {
    "ExecuteTime": {
     "end_time": "2023-01-04T20:39:32.868245Z",
     "start_time": "2023-01-04T20:39:32.435337Z"
    }
   },
   "outputs": [],
   "source": [
    "#use PCA to align main axis and allow for a fair comparison\n",
    "itPCs = PCA(2, random_state=rs).fit_transform(ity)[:,:2]\n",
    "f,ax = subps(1,1,3,5)\n",
    "plot2dScatter(itPCs,cclrs,s=40,axLabels=False,edgecolors='gray',f_ax=(f,ax),axisEqual=False)\n",
    "ax.set_title(algo_title)"
   ]
  },
  {
   "cell_type": "code",
   "execution_count": null,
   "metadata": {
    "ExecuteTime": {
     "end_time": "2023-01-04T20:39:33.159364Z",
     "start_time": "2023-01-04T20:39:32.871197Z"
    }
   },
   "outputs": [],
   "source": [
    "y = itPCs[:,0]\n",
    "showPositionalLabelMixing(y, algo_title)\n",
    "tau = plot_tau_stats(y, algo_title)"
   ]
  },
  {
   "cell_type": "markdown",
   "metadata": {},
   "source": [
    "### UMAP"
   ]
  },
  {
   "cell_type": "markdown",
   "metadata": {
    "ExecuteTime": {
     "end_time": "2023-01-06T18:39:24.842314Z",
     "start_time": "2023-01-06T18:39:24.828703Z"
    }
   },
   "source": [
    "(note: UMAP is not a pre-requisite for the IAN package; you will need to install it independently in order to run the code below)"
   ]
  },
  {
   "cell_type": "code",
   "execution_count": null,
   "metadata": {
    "ExecuteTime": {
     "end_time": "2023-01-04T19:58:49.251789Z",
     "start_time": "2023-01-04T19:58:19.003181Z"
    },
    "scrolled": true
   },
   "outputs": [],
   "source": [
    "import umap #tested using umap-learn v0.5.3\n",
    "\n",
    "algo_title = 'UMAP, k = %d' % avg_deg\n",
    "\n",
    "fit = umap.UMAP(\n",
    "    n_neighbors=avg_deg,\n",
    "    n_components=n_components,\n",
    "    random_state=rs,\n",
    ")\n",
    "uY = fit.fit_transform(X)\n",
    "\n",
    "#use PCA to align cylinder's main axis with first component, and allow for a fair comparison\n",
    "uPCs = PCA(2, random_state=rs).fit_transform(uY)[:,:2]\n",
    "f,ax = subps(1,1,3,5)\n",
    "plot2dScatter(uPCs,cclrs,s=40,axLabels=False,edgecolors='gray',f_ax=(f,ax),axisEqual=False)\n",
    "ax.set_title(algo_title)\n",
    "plt.show()"
   ]
  },
  {
   "cell_type": "code",
   "execution_count": null,
   "metadata": {
    "ExecuteTime": {
     "end_time": "2023-01-04T20:06:51.392456Z",
     "start_time": "2023-01-04T20:06:51.056544Z"
    }
   },
   "outputs": [],
   "source": [
    "y = uPCs[:,0]\n",
    "showPositionalLabelMixing(y, algo_title)\n",
    "tau = plot_tau_stats(y, algo_title)"
   ]
  },
  {
   "cell_type": "code",
   "execution_count": null,
   "metadata": {
    "ExecuteTime": {
     "end_time": "2023-01-06T18:40:35.384626Z",
     "start_time": "2023-01-06T18:40:34.861630Z"
    }
   },
   "outputs": [],
   "source": [
    "### IAN + UMAP\n",
    "\n",
    "algo_title = 'IAN + UMAP'\n",
    "\n",
    "#setting up a umap object\n",
    "u = umap.UMAP(\n",
    "    n_neighbors=avg_deg,\n",
    "    n_components=n_components,\n",
    "    transform_mode=\"graph\", #this option tells umap not to compute the embedding just yet\n",
    "    random_state=rs,\n",
    ")\n",
    "u.fit(X)\n",
    "\n",
    "#run algorithm with our own weighted graph\n",
    "myK = wG.toarray()\n",
    "np.fill_diagonal(myK,0) #remove self-weights (not used by umap)\n",
    "sparseK = sp.sparse.coo_matrix(myK) #convert into sparse COO format, required by umap\n",
    "\n",
    "\n",
    "#now run umap's embedding algorithm directly, using the IAN weighted graph\n",
    "from sklearn.utils import check_random_state, check_array\n",
    "X_ = check_array(X.copy(), dtype=np.float32, accept_sparse=\"csr\", order=\"C\")\n",
    "\n",
    "from umap.umap_ import simplicial_set_embedding\n",
    "uY,_ = simplicial_set_embedding(X_, sparseK, #just pass along all internal attributes from the umap object create above\n",
    "            u.n_components, u._initial_alpha, u._a, u._b, u.repulsion_strength, u.negative_sample_rate,\n",
    "            u.n_epochs, u.init, check_random_state(u.random_state), u._input_distance_func, u._metric_kwds,\n",
    "            u.densmap, u._densmap_kwds, u.output_dens, u._output_distance_func, u._output_metric_kwds,\n",
    "            u.output_metric in (\"euclidean\", \"l2\"), check_random_state(u.random_state) is None, u.verbose, u.tqdm_kwds)\n",
    "\n",
    "#use PCA to align main axis, allowing for a fair comparison\n",
    "iuPCs = PCA(2,random_state=rs).fit_transform(uY)\n",
    "iuPCs[:,0] = -iuPCs[:,0] #(flipping in order to have red points on the left)\n",
    "f,ax = subps(1,1,3,5)\n",
    "plot2dScatter(iuPCs[:,[0,1]],cclrs,s=40,axLabels=False,edgecolors='gray',f_ax=(f,ax),axisEqual=False)\n",
    "ax.set_title(algo_title)\n",
    "plt.show()"
   ]
  },
  {
   "cell_type": "code",
   "execution_count": null,
   "metadata": {
    "ExecuteTime": {
     "end_time": "2023-01-04T20:07:28.105174Z",
     "start_time": "2023-01-04T20:07:27.817291Z"
    }
   },
   "outputs": [],
   "source": [
    "y = iuPCs[:,0]\n",
    "showPositionalLabelMixing(y, algo_title)\n",
    "tau = plot_tau_stats(y, algo_title)"
   ]
  }
 ],
 "metadata": {
  "celltoolbar": "Initialization Cell",
  "hide_input": false,
  "kernelspec": {
   "display_name": "Python [conda env:test0]",
   "language": "python",
   "name": "conda-env-test0-py"
  },
  "language_info": {
   "codemirror_mode": {
    "name": "ipython",
    "version": 3
   },
   "file_extension": ".py",
   "mimetype": "text/x-python",
   "name": "python",
   "nbconvert_exporter": "python",
   "pygments_lexer": "ipython3",
   "version": "3.10.6"
  }
 },
 "nbformat": 4,
 "nbformat_minor": 2
}
