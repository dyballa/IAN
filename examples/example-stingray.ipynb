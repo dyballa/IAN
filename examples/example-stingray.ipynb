{
 "cells": [
  {
   "cell_type": "code",
   "execution_count": null,
   "metadata": {
    "ExecuteTime": {
     "end_time": "2023-01-06T20:02:21.876642Z",
     "start_time": "2023-01-06T20:02:20.505041Z"
    }
   },
   "outputs": [],
   "source": [
    "import numpy as np\n",
    "from ian.ian import *\n",
    "from ian.dset_utils import *\n",
    "from ian.embed_utils import *\n",
    "from ian.utils import *\n",
    "import matplotlib.pyplot as plt\n",
    "import matplotlib\n",
    "%matplotlib inline\n",
    "\n",
    "plt.rcParams['figure.figsize']  = (6.0, 4.0)\n",
    "plt.rcParams['figure.dpi'] = 72.0"
   ]
  },
  {
   "cell_type": "code",
   "execution_count": null,
   "metadata": {
    "ExecuteTime": {
     "end_time": "2023-01-06T20:02:23.633852Z",
     "start_time": "2023-01-06T20:02:23.510592Z"
    }
   },
   "outputs": [],
   "source": [
    "dset = dset_stingray()\n",
    "data_cmap = None\n",
    "\n",
    "X = dset['X']\n",
    "c = dset['c']\n",
    "N = X.shape[0]\n",
    "\n",
    "_ = plot2dScatter(X, c, s=25, cmap=data_cmap)"
   ]
  },
  {
   "cell_type": "code",
   "execution_count": null,
   "metadata": {
    "ExecuteTime": {
     "end_time": "2023-01-06T20:02:28.233092Z",
     "start_time": "2023-01-06T20:02:26.136874Z"
    },
    "scrolled": false
   },
   "outputs": [],
   "source": [
    "D2 = pwdists(X, sqdists=True) #square matrix of squared Euclidean distances\n",
    "G, wG, optScales, disc_pts = IAN('exact-precomputed-sq', D2, Xplot=X, plot_interval=1)"
   ]
  },
  {
   "cell_type": "markdown",
   "metadata": {
    "heading_collapsed": true
   },
   "source": [
    "### Visualizing resulting scales and data graphs"
   ]
  },
  {
   "cell_type": "code",
   "execution_count": null,
   "metadata": {
    "ExecuteTime": {
     "end_time": "2023-01-02T17:25:27.202887Z",
     "start_time": "2023-01-02T17:25:26.300086Z"
    },
    "hidden": true
   },
   "outputs": [],
   "source": [
    "f,axes = subps(1,3,4,4)\n",
    "\n",
    "### INDIVIDUAL SCALES\n",
    "ax = axes[0]\n",
    "ax.set_title('Individual scales')\n",
    "\n",
    "lvl = .75 #level set of Gaussian kernel to plot\n",
    "\n",
    "# use kernel formula and solve for the distance, d (radius) using the optimal individual scale, s: \n",
    "# lvl = exp(-d^2/(s^2)) --> sˆ2 log(1/lvl) = d^2 --> d = s sqrt(log(1/lvl))\n",
    "\n",
    "scales_radii = optScales*np.sqrt(np.log(1/lvl))\n",
    "\n",
    "plotScales(Xplot, [], scales_radii, scalesScl=1, f_axes=(f,[ax]), circleColor='g')\n",
    "\n",
    "### UNWEIGHTED GRAPH\n",
    "\n",
    "ax = axes[1]\n",
    "ax.set_title('Unweighted graph, $G$')\n",
    "\n",
    "plotDataGraph(Xplot, G, f_ax=(f,ax), edge_color='k', edge_width=.75)\n",
    "\n",
    "\n",
    "### WEIGHTED GRAPH\n",
    "\n",
    "ax = axes[2]\n",
    "ax.set_title('Weighted graph, $\\mathcal{G}^{\\star}$')\n",
    "#normalize weights for better visualization and comparison with other methods\n",
    "#divide by kernel value when the scale equals the distance\n",
    "#exp( -d^2 / s^2 ) = exp(-1) when d == s\n",
    "wAdj = wG.toarray()\n",
    "wAdj /= np.exp(-1)\n",
    "wAdj[wAdj > 1] = 1 #cant have opacity larger than 1\n",
    "plotWeightedGraph(Xplot, wAdj, rgb=(0,0,0), f_ax=(f,ax))\n",
    "\n",
    "plt.show()"
   ]
  },
  {
   "cell_type": "markdown",
   "metadata": {
    "heading_collapsed": true
   },
   "source": [
    "### Local dimensionality"
   ]
  },
  {
   "cell_type": "code",
   "execution_count": null,
   "metadata": {
    "ExecuteTime": {
     "end_time": "2023-01-02T17:25:31.893336Z",
     "start_time": "2023-01-02T17:25:31.268168Z"
    },
    "hidden": true
   },
   "outputs": [],
   "source": [
    "#run NCD algorithm to estimate local dimension\n",
    "nbrhoodOrder = 3 #using neighbors-of-neighbors up to 2 hops away\n",
    "NofNDims, degDims = estimateDims(G, D2, nbrhoodOrder) \n",
    "dims = np.maximum(degDims,NofNDims)\n",
    "\n",
    "\n",
    "#set bounds for colormap\n",
    "MIND, MAXD = min(0.5,dims.min()),  max(dims.max(),3.)\n",
    "norm = matplotlib.colors.Normalize(vmin=MIND, vmax=MAXD)\n",
    "dim_cmap = matplotlib.cm.get_cmap('gist_ncar')\n",
    "\n",
    "dimColors = [dim_cmap(norm(si)) for si in dims]\n",
    "\n",
    "f,ax = subps(1,1,4,4)\n",
    "\n",
    "plot2dScatter(X, dimColors, f_ax=(f,ax), axLabels=False, s=25)\n",
    "\n",
    "ax = f.add_axes([0.05, -.025, 0.9, 0.025])\n",
    "import matplotlib as mpl\n",
    "\n",
    "cb = mpl.colorbar.ColorbarBase(ax, orientation='horizontal', \n",
    "                               cmap=dim_cmap,\n",
    "                               norm=mpl.colors.Normalize(MIND, MAXD),\n",
    "                               label='local dimension')\n",
    "\n",
    "plt.show()\n",
    "\n",
    "f,ax = subps(1,1,4,4)\n",
    "ax.hist(dims)\n",
    "ax.set_title('Distribution of local dimension')\n",
    "plt.show()"
   ]
  },
  {
   "cell_type": "markdown",
   "metadata": {
    "heading_collapsed": true
   },
   "source": [
    "### Heat geodesics"
   ]
  },
  {
   "cell_type": "code",
   "execution_count": null,
   "metadata": {
    "ExecuteTime": {
     "end_time": "2023-01-02T17:46:27.979307Z",
     "start_time": "2023-01-02T17:46:27.842384Z"
    },
    "hidden": true
   },
   "outputs": [],
   "source": [
    "geocenter = [116] #index of starting node(s) for heat diffusion\n",
    "\n",
    "K = wG.toarray() #convert weighted graph to dense array\n",
    "\n",
    "#remove any self-weights\n",
    "np.fill_diagonal(K,0)\n",
    "\n",
    "t = 10 #heat diffusion time\n",
    "phis = computeHeatGeodesics(K, t, geocenter)\n",
    "\n",
    "\n",
    "f,ax = subps(1,1,4,4)\n",
    "\n",
    "zorder = phis.argsort()[::-1]#put hottest pts on top for clearer visualization\n",
    "plot2dScatter(X[zorder], phis[zorder], f_ax=(f,ax), axLabels=False, cmap=plasma7r_cmp, s=100, edgecolors=(0,0,0))\n",
    "plt.show()"
   ]
  },
  {
   "cell_type": "markdown",
   "metadata": {},
   "source": [
    "### Compare embeddings using different algorithms"
   ]
  },
  {
   "cell_type": "code",
   "execution_count": null,
   "metadata": {},
   "outputs": [],
   "source": [
    "D1 = np.sqrt(D2) # (non-sq) distances\n",
    "\n",
    "n_components = 2\n",
    "rs = 10 #random state"
   ]
  },
  {
   "cell_type": "code",
   "execution_count": null,
   "metadata": {
    "ExecuteTime": {
     "end_time": "2023-01-06T20:16:19.513454Z",
     "start_time": "2023-01-06T20:16:19.374519Z"
    }
   },
   "outputs": [],
   "source": [
    "\n",
    "\n",
    "### IAN + ISOMAP\n",
    "\n",
    "\n",
    "dwG = G.multiply(D1) # elementwise multiply to get discrete graph using distances as weights\n",
    "_, isomap_y = computeIsomap(X, None, n_components, knbrs_graph=dwG)\n",
    "\n",
    "f,ax = subps(1,1,4,4)\n",
    "ax.set_title('IAN + Isomap')\n",
    "plot2dScatter(isomap_y, c, cmap=data_cmap, f_ax=(f,ax), s=20, axLabels=False)\n",
    "plt.show()"
   ]
  },
  {
   "cell_type": "code",
   "execution_count": null,
   "metadata": {
    "ExecuteTime": {
     "end_time": "2023-01-06T20:16:21.836046Z",
     "start_time": "2023-01-06T20:16:21.648156Z"
    }
   },
   "outputs": [],
   "source": [
    "### IAN + Diffusion Maps\n",
    "\n",
    "%matplotlib notebook\n",
    "f,ax = subps(1,1,6,6,d3=True)\n",
    "ax.set_title('IAN + Diffusion Maps')\n",
    "alpha = 1\n",
    "t = 1\n",
    "n_components = 3\n",
    "diffmap_y, _ = diffusionMapFromK(wG, n_components, alpha, t)\n",
    "\n",
    "plot3dScatter(diffmap_y,None,f_ax=(f,ax),s=20,depthshade=False,axisEqual=True,noTicks=False)\n",
    "plt.show()"
   ]
  },
  {
   "cell_type": "markdown",
   "metadata": {},
   "source": [
    "#### t-SNE"
   ]
  },
  {
   "cell_type": "markdown",
   "metadata": {},
   "source": [
    "(note: the t-SNE implementation used here is included in the scikit-learn package)"
   ]
  },
  {
   "cell_type": "code",
   "execution_count": null,
   "metadata": {
    "ExecuteTime": {
     "end_time": "2023-01-06T20:30:05.909974Z",
     "start_time": "2023-01-06T20:29:55.133038Z"
    }
   },
   "outputs": [],
   "source": [
    "#### t-SNE\n",
    "%matplotlib inline\n",
    "\n",
    "perplexities = [2, 4, 8, 16, 32]\n",
    "n_components = 2\n",
    "f,axes = subps(1,len(perplexities),3,3,axlist=True)\n",
    "\n",
    "for ax, knn in zip(axes, perplexities):\n",
    "    print(knn, end=' ')\n",
    "    #Copute spectral initialization, for better comparison with umap\n",
    "    \n",
    "    # (need to compute a kernel matrix first, using t-SNE's own sigmas) \n",
    "    sigmas = computeTSNEsigmas(D2, knn) #use knn as perplexity\n",
    "    myK = computeTSNEkernel(D2, sigmas, False) #no need to normalize b/c will be done by eigenmaps\n",
    "    init = spectral_init_from_umap(myK, n_components, rs)\n",
    "\n",
    "    # 2 - compute t-SNE embedding using the init above\n",
    "    tsne = TSNE(n_components=n_components, learning_rate='auto', metric='precomputed',\n",
    "               init=init, perplexity=knn, random_state=rs, method=\"exact\")\n",
    "    tsne_y = tsne.fit_transform(D1.copy())\n",
    "\n",
    "    plot2dScatter(tsne_y, '#1f77b4', cmap=data_cmap, f_ax=(f,ax), s=25, axLabels=False)\n",
    "    ax.set_title(f't-SNE, k={knn}')\n",
    "    \n",
    "plt.show()"
   ]
  },
  {
   "cell_type": "code",
   "execution_count": null,
   "metadata": {
    "ExecuteTime": {
     "end_time": "2023-01-06T20:17:04.879194Z",
     "start_time": "2023-01-06T20:17:02.605349Z"
    }
   },
   "outputs": [],
   "source": [
    "### IAN + t-SNE\n",
    "from sklearn.manifold import TSNE\n",
    "%matplotlib inline\n",
    "f,ax = subps(1,1,4,4)\n",
    "ax.set_title('IAN + t-SNE')\n",
    "\n",
    "tsne = TSNE(n_components=n_components, learning_rate='auto', metric='precomputed',\n",
    "               init='random', random_state=rs, method=\"exact\", verbose=False)\n",
    "Psi = my_tsne_fit_transform(tsne,D2,optScales,True)\n",
    "plot2dScatter(Psi,'#1f77b4',f_ax=(f,ax),axisEqual=False,s=25,alpha=1,axLabels=False)\n",
    "plt.show()"
   ]
  },
  {
   "cell_type": "markdown",
   "metadata": {},
   "source": [
    "#### UMAP"
   ]
  },
  {
   "cell_type": "markdown",
   "metadata": {},
   "source": [
    "(note: UMAP is not a pre-requisite for the IAN package; you will need to install it independently in order to run the code below)"
   ]
  },
  {
   "cell_type": "code",
   "execution_count": null,
   "metadata": {
    "ExecuteTime": {
     "end_time": "2023-01-06T20:30:15.465035Z",
     "start_time": "2023-01-06T20:30:10.963060Z"
    }
   },
   "outputs": [],
   "source": [
    "import umap #tested using umap-learn v0.5.3\n",
    "\n",
    "n_components = 2\n",
    "knns = [2, 4, 8, 16, 32]\n",
    "\n",
    "f,axes = subps(1,len(knns),3,3,axlist=True)\n",
    "\n",
    "for ax, knn in zip(axes, knns):\n",
    "    print(knn, end=' ')\n",
    "    fit = umap.UMAP(\n",
    "        n_neighbors=knn,\n",
    "        n_components=n_components,\n",
    "        random_state=rs,\n",
    "    )\n",
    "    umap_y = fit.fit_transform(X)\n",
    "\n",
    "    plot2dScatter(umap_y, '#1f77b4', cmap=data_cmap, f_ax=(f,ax), s=25, axLabels=False)\n",
    "    ax.set_title(f'UMAP, k={knn}')\n",
    "    \n",
    "plt.show()"
   ]
  },
  {
   "cell_type": "code",
   "execution_count": null,
   "metadata": {
    "ExecuteTime": {
     "end_time": "2023-01-06T20:18:11.690130Z",
     "start_time": "2023-01-06T20:18:10.621936Z"
    }
   },
   "outputs": [],
   "source": [
    "### IAN + UMAP\n",
    "\n",
    "#setting up a umap object\n",
    "u = umap.UMAP(\n",
    "    n_neighbors=X.shape[0]-1, #all points\n",
    "    n_components=n_components,\n",
    "    transform_mode=\"graph\", #this option tells umap not to compute the embedding just yet\n",
    "    random_state=rs,\n",
    ")\n",
    "u.fit(X)\n",
    "\n",
    "#run algorithm with our own weighted graph\n",
    "myK = wG.toarray()\n",
    "np.fill_diagonal(myK,0) #remove self-weights (not used by umap)\n",
    "sparseK = sp.sparse.coo_matrix(myK) #convert into sparse COO format, required by umap\n",
    "\n",
    "\n",
    "#now run umap's embedding algorithm directly, using the IAN weighted graph\n",
    "from sklearn.utils import check_random_state, check_array\n",
    "X_ = check_array(X.copy(), dtype=np.float32, accept_sparse=\"csr\", order=\"C\")\n",
    "\n",
    "from umap.umap_ import simplicial_set_embedding\n",
    "ianumap_y,_ = simplicial_set_embedding(X_, sparseK, #just pass along all internal attributes from the umap object create above\n",
    "            u.n_components, u._initial_alpha, u._a, u._b, u.repulsion_strength, u.negative_sample_rate,\n",
    "            u.n_epochs, u.init, check_random_state(u.random_state), u._input_distance_func, u._metric_kwds,\n",
    "            u.densmap, u._densmap_kwds, u.output_dens, u._output_distance_func, u._output_metric_kwds,\n",
    "            u.output_metric in (\"euclidean\", \"l2\"), check_random_state(u.random_state) is None, u.verbose, u.tqdm_kwds)\n",
    "\n",
    "\n",
    "f,ax = subps(1,1,4,4)\n",
    "ax.set_title('IAN + UMAP')\n",
    "plot2dScatter(ianumap_y, '#1f77b4', cmap=data_cmap, f_ax=(f,ax), axisEqual=False, s=25, axLabels=False)\n",
    "plt.show()"
   ]
  }
 ],
 "metadata": {
  "celltoolbar": "Initialization Cell",
  "hide_input": false,
  "kernelspec": {
   "display_name": "Python [conda env:test0]",
   "language": "python",
   "name": "conda-env-test0-py"
  },
  "language_info": {
   "codemirror_mode": {
    "name": "ipython",
    "version": 3
   },
   "file_extension": ".py",
   "mimetype": "text/x-python",
   "name": "python",
   "nbconvert_exporter": "python",
   "pygments_lexer": "ipython3",
   "version": "3.10.6"
  }
 },
 "nbformat": 4,
 "nbformat_minor": 2
}
